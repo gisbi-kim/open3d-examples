{
 "cells": [
  {
   "cell_type": "code",
   "execution_count": 1,
   "metadata": {},
   "outputs": [],
   "source": [
    "from open3d import *\n",
    "import numpy as np \n",
    "import csv\n",
    "import os\n"
   ]
  },
  {
   "cell_type": "code",
   "execution_count": 2,
   "metadata": {},
   "outputs": [],
   "source": [
    "def read_dat(file_path):\n",
    "\n",
    "    content = []\n",
    "    ptcloud = []\n",
    "\n",
    "    file = open(file_path, 'r')\n",
    "    for line in file:\n",
    "        fields = line.split(' ')\n",
    "        \n",
    "        robot_pose_x = float(fields[0])\n",
    "        robot_pose_y = float(fields[1])\n",
    "        robot_pose_z = float(fields[2])\n",
    "        point_x = float(fields[3])\n",
    "        point_y = float(fields[4])\n",
    "        point_z = float(fields[5])\n",
    "        \n",
    "        content_all = np.array([robot_pose_x, robot_pose_y, robot_pose_z, point_x, point_y, point_z])\n",
    "        content_ptcloud = np.array([point_x, point_y, point_z])\n",
    "        \n",
    "        content.append(content_all)\n",
    "        ptcloud.append(content_ptcloud)\n",
    "\n",
    "    content = np.array(content)\n",
    "    ptcloud = np.array(ptcloud)\n",
    "    \n",
    "    return content, ptcloud\n",
    "    "
   ]
  },
  {
   "cell_type": "code",
   "execution_count": 44,
   "metadata": {},
   "outputs": [],
   "source": [
    "\"\"\"\n",
    "Read Points (from dat file)\n",
    "\"\"\"\n",
    "\n",
    "file_dir = '/home/irap/Documents/data/freiburgCampus360_3D/freiburgCampus360_3D/'\n",
    "scan_num = '001'\n",
    "\n",
    "file_path_local = 'scan_' + scan_num + '_points.dat'\n",
    "file_path_local_nameonly = 'scan_' + scan_num + '_points'\n",
    "file_path = file_dir + 'scan_' + scan_num + '_points.dat'\n",
    "\n",
    "content_all, ptcloud = read_dat(file_path)"
   ]
  },
  {
   "cell_type": "code",
   "execution_count": 4,
   "metadata": {},
   "outputs": [
    {
     "data": {
      "text/plain": [
       "array([[-10.276,   5.891,   0.646],\n",
       "       [-10.677,   5.928,   0.505],\n",
       "       [-10.181,   5.474,   0.384],\n",
       "       ...,\n",
       "       [ -4.028,  -2.345,   0.842],\n",
       "       [ -9.152,  -5.192,   0.876],\n",
       "       [ -3.269,  -2.07 ,   0.729]])"
      ]
     },
     "execution_count": 4,
     "metadata": {},
     "output_type": "execute_result"
    }
   ],
   "source": [
    "ptcloud"
   ]
  },
  {
   "cell_type": "code",
   "execution_count": 64,
   "metadata": {},
   "outputs": [
    {
     "data": {
      "text/plain": [
       "True"
      ]
     },
     "execution_count": 64,
     "metadata": {},
     "output_type": "execute_result"
    }
   ],
   "source": [
    "\"\"\"\n",
    "Convert numpy array into ply form (available for open3d functions)\n",
    "\"\"\"\n",
    "\n",
    "ptcloud_file = PointCloud()\n",
    "ptcloud_file.points = Vector3dVector(ptcloud)\n",
    "\n",
    "save_file_path = './data/' + file_path_local_nameonly + '.ply' \n",
    "write_point_cloud(save_file_path, ptcloud_file)\n"
   ]
  },
  {
   "cell_type": "code",
   "execution_count": 65,
   "metadata": {},
   "outputs": [],
   "source": [
    "# Load saved point cloud and visualize it\n",
    "pcd_load = read_point_cloud(save_file_path)\n",
    "draw_geometries([pcd_load])\n"
   ]
  },
  {
   "cell_type": "code",
   "execution_count": 13,
   "metadata": {},
   "outputs": [
    {
     "name": "stdout",
     "output_type": "stream",
     "text": [
      "Downsample the point cloud with a voxel of \n"
     ]
    }
   ],
   "source": [
    "\"\"\"\n",
    "Downsampling\n",
    "\"\"\"\n",
    "print(\"Downsample the point cloud with a voxel of \")\n",
    "downpcd = voxel_down_sample(pcd_load, voxel_size = 0.05)\n",
    "draw_geometries([downpcd])\n",
    "\n",
    "\n"
   ]
  },
  {
   "cell_type": "code",
   "execution_count": 14,
   "metadata": {},
   "outputs": [
    {
     "name": "stdout",
     "output_type": "stream",
     "text": [
      "PointCloud with 176250 points.\n",
      "PointCloud with 103544 points.\n"
     ]
    }
   ],
   "source": [
    "print(pcd_load)\n",
    "print(downpcd)"
   ]
  },
  {
   "cell_type": "code",
   "execution_count": 41,
   "metadata": {},
   "outputs": [
    {
     "name": "stdout",
     "output_type": "stream",
     "text": [
      "176250\n"
     ]
    }
   ],
   "source": [
    "\"\"\"\n",
    "removing road\n",
    "\"\"\"\n",
    "# calc normals\n",
    "estimate_normals(pcd_load, search_param = KDTreeSearchParamHybrid(\n",
    "        radius = 1, max_nn = 30)) # empirically, radius 1 was good.\n",
    "# draw_geometries([pcd_load])\n",
    "\n",
    "\n",
    "# numpy points for processing\n",
    "points = np.asarray(pcd_load.points)\n",
    "num_points = len(points)\n",
    "print(num_points)"
   ]
  },
  {
   "cell_type": "code",
   "execution_count": 38,
   "metadata": {},
   "outputs": [],
   "source": [
    "# removing road points \n",
    "normals = np.asarray(pcd_load.normals)\n",
    "road_removed_points = []\n",
    "for i in range(num_points):\n",
    "    ith_point_xyz = points[i, :]\n",
    "    ith_point_normal = normals[i, :]\n",
    "\n",
    "    z_normal = ith_point_normal[2]\n",
    "    e = 0.05\n",
    "    if( np.abs( np.abs(z_normal) - 1) < e):\n",
    "        pass\n",
    "    else:\n",
    "        road_removed_points.append(ith_point_xyz)\n",
    "        \n",
    "road_removed_points = np.array(road_removed_points)"
   ]
  },
  {
   "cell_type": "code",
   "execution_count": 48,
   "metadata": {},
   "outputs": [],
   "source": [
    "# save\n",
    "ptcloud_file = PointCloud()\n",
    "ptcloud_file.points = Vector3dVector(road_removed_points)\n",
    "\n",
    "road_removed_file_path_local_nameonly = file_path_local_nameonly + '_without_road'\n",
    "save_file_path = './data/' + road_removed_file_path_local_nameonly + '.ply' \n",
    "write_point_cloud(save_file_path, ptcloud_file)\n",
    "\n",
    "# Load saved point cloud and visualize it\n",
    "pcd_without_road_load = read_point_cloud(save_file_path)\n",
    "draw_geometries([pcd_without_road_load])\n"
   ]
  },
  {
   "cell_type": "code",
   "execution_count": 62,
   "metadata": {},
   "outputs": [
    {
     "name": "stdout",
     "output_type": "stream",
     "text": [
      "PointCloud with 11749 points.\n"
     ]
    }
   ],
   "source": [
    "\"\"\"\n",
    "Downsampling of the road-removed point cloud\n",
    "\"\"\"\n",
    "downpcd_without_road_load = voxel_down_sample(pcd_without_road_load, voxel_size = 0.3)\n",
    "draw_geometries([downpcd_without_road_load])\n",
    "\n",
    "# save \n",
    "downsampled_road_removed_file_path_local_nameonly = file_path_local_nameonly + '_without_road_downsampled'\n",
    "save_file_path = './data/' + downsampled_road_removed_file_path_local_nameonly + '.ply' \n",
    "write_point_cloud(save_file_path, downpcd_without_road_load)\n",
    "\n",
    "# number of downsampled points (without road)\n",
    "print(downpcd_without_road_load)"
   ]
  },
  {
   "cell_type": "code",
   "execution_count": 59,
   "metadata": {},
   "outputs": [
    {
     "data": {
      "text/plain": [
       "PointCloud with 11749 points."
      ]
     },
     "execution_count": 59,
     "metadata": {},
     "output_type": "execute_result"
    }
   ],
   "source": []
  },
  {
   "cell_type": "code",
   "execution_count": 57,
   "metadata": {},
   "outputs": [
    {
     "data": {
      "text/plain": [
       "PointCloud with 100080 points."
      ]
     },
     "execution_count": 57,
     "metadata": {},
     "output_type": "execute_result"
    }
   ],
   "source": [
    "pcd_without_road_load"
   ]
  },
  {
   "cell_type": "code",
   "execution_count": 35,
   "metadata": {},
   "outputs": [
    {
     "data": {
      "text/plain": [
       "array([-8.932,  4.496,  0.199])"
      ]
     },
     "execution_count": 35,
     "metadata": {},
     "output_type": "execute_result"
    }
   ],
   "source": [
    "points[4,:]"
   ]
  },
  {
   "cell_type": "code",
   "execution_count": 40,
   "metadata": {},
   "outputs": [
    {
     "data": {
      "text/plain": [
       "(100080, 3)"
      ]
     },
     "execution_count": 40,
     "metadata": {},
     "output_type": "execute_result"
    }
   ],
   "source": [
    "road_removed_points.shape"
   ]
  },
  {
   "cell_type": "code",
   "execution_count": 37,
   "metadata": {},
   "outputs": [
    {
     "data": {
      "text/plain": [
       "2"
      ]
     },
     "execution_count": 37,
     "metadata": {},
     "output_type": "execute_result"
    }
   ],
   "source": [
    "np.abs(-2)"
   ]
  },
  {
   "cell_type": "code",
   "execution_count": null,
   "metadata": {},
   "outputs": [],
   "source": []
  }
 ],
 "metadata": {
  "kernelspec": {
   "display_name": "Python 3",
   "language": "python",
   "name": "python3"
  },
  "language_info": {
   "codemirror_mode": {
    "name": "ipython",
    "version": 3
   },
   "file_extension": ".py",
   "mimetype": "text/x-python",
   "name": "python",
   "nbconvert_exporter": "python",
   "pygments_lexer": "ipython3",
   "version": "3.5.2"
  }
 },
 "nbformat": 4,
 "nbformat_minor": 2
}
