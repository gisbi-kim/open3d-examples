{
 "cells": [
  {
   "cell_type": "code",
   "execution_count": 155,
   "metadata": {},
   "outputs": [],
   "source": [
    "from open3d import *\n",
    "import numpy as np \n",
    "import csv\n",
    "import os\n",
    "import sys"
   ]
  },
  {
   "cell_type": "code",
   "execution_count": 156,
   "metadata": {},
   "outputs": [],
   "source": [
    "def read_dat(file_path):\n",
    "\n",
    "    content = []\n",
    "    ptcloud = []\n",
    "\n",
    "    file = open(file_path, 'r')\n",
    "    for line in file:\n",
    "        fields = line.split(' ')\n",
    "        \n",
    "        robot_pose_x = float(fields[0])\n",
    "        robot_pose_y = float(fields[1])\n",
    "        robot_pose_z = float(fields[2])\n",
    "        point_x = float(fields[3])\n",
    "        point_y = float(fields[4])\n",
    "        point_z = float(fields[5])\n",
    "        \n",
    "        content_all = np.array([robot_pose_x, robot_pose_y, robot_pose_z, point_x, point_y, point_z])\n",
    "        content_ptcloud = np.array([point_x, point_y, point_z])\n",
    "        \n",
    "        content.append(content_all)\n",
    "        ptcloud.append(content_ptcloud)\n",
    "\n",
    "    content = np.array(content)\n",
    "    ptcloud = np.array(ptcloud)\n",
    "    \n",
    "    return content, ptcloud"
   ]
  },
  {
   "cell_type": "code",
   "execution_count": 157,
   "metadata": {},
   "outputs": [],
   "source": [
    "\"\"\"\n",
    "Read Points (from dat file)\n",
    "\"\"\"\n",
    "\n",
    "raw_pcd_dir = './data/sample_data/freiburgCampus360_3D/'\n",
    "scan_num = '001'\n",
    "\n",
    "pcd_base_name = 'scan_' + scan_num + '_points'\n",
    "raw_pcd_path = raw_pcd_dir + 'scan_' + scan_num + '_points.dat'\n",
    "\n",
    "content_all, ptcloud = read_dat(raw_pcd_path)"
   ]
  },
  {
   "cell_type": "code",
   "execution_count": 158,
   "metadata": {},
   "outputs": [
    {
     "data": {
      "text/plain": [
       "array([[-16.479,   9.343,   0.552],\n",
       "       [-21.304,  11.687,   0.233],\n",
       "       [-13.922,   7.167,   0.047],\n",
       "       ...,\n",
       "       [ 37.493,  21.297,   0.623],\n",
       "       [ 37.994,  22.26 ,   1.112],\n",
       "       [  5.371,   4.933,   2.22 ]])"
      ]
     },
     "execution_count": 158,
     "metadata": {},
     "output_type": "execute_result"
    }
   ],
   "source": [
    "ptcloud"
   ]
  },
  {
   "cell_type": "code",
   "execution_count": 159,
   "metadata": {},
   "outputs": [
    {
     "data": {
      "text/plain": [
       "True"
      ]
     },
     "execution_count": 159,
     "metadata": {},
     "output_type": "execute_result"
    }
   ],
   "source": [
    "\"\"\"\n",
    "Convert numpy array into ply form (available for open3d functions)\n",
    "\"\"\"\n",
    "raw_pcd = PointCloud()\n",
    "raw_pcd.points = Vector3dVector(ptcloud)\n",
    "\n",
    "pcd_save_dir = './data/processed_data/freiburgCampus360_3D/'\n",
    "raw_pcd_save_path = pcd_save_dir + pcd_base_name + '.ply' \n",
    "\n",
    "# save raw point cloud \n",
    "write_point_cloud(raw_pcd_save_path, raw_pcd)"
   ]
  },
  {
   "cell_type": "code",
   "execution_count": 160,
   "metadata": {},
   "outputs": [],
   "source": [
    "# - Load saved point cloud and visualize it\n",
    "raw_pcd_load = read_point_cloud(raw_pcd_save_path)\n",
    "draw_geometries([raw_pcd_load])"
   ]
  },
  {
   "cell_type": "code",
   "execution_count": 161,
   "metadata": {},
   "outputs": [
    {
     "data": {
      "text/plain": [
       "True"
      ]
     },
     "execution_count": 161,
     "metadata": {},
     "output_type": "execute_result"
    }
   ],
   "source": [
    "\"\"\"\n",
    "Downsampling\n",
    "\"\"\"\n",
    "down_pcd = voxel_down_sample(raw_pcd, voxel_size = 0.1)\n",
    "draw_geometries([down_pcd])\n",
    "\n",
    "down_pcd_name = pcd_base_name + '_down'\n",
    "down_pcd_save_path = pcd_save_dir + down_pcd_name + '.ply' \n",
    "\n",
    "# save downsampled point cloud \n",
    "write_point_cloud(down_pcd_save_path, down_pcd)"
   ]
  },
  {
   "cell_type": "code",
   "execution_count": 162,
   "metadata": {},
   "outputs": [
    {
     "name": "stdout",
     "output_type": "stream",
     "text": [
      "PointCloud with 131708 points.\n",
      "PointCloud with 49977 points.\n"
     ]
    }
   ],
   "source": [
    "print(raw_pcd)\n",
    "print(down_pcd)"
   ]
  },
  {
   "cell_type": "code",
   "execution_count": 163,
   "metadata": {},
   "outputs": [],
   "source": [
    "# - calc normals\n",
    "estimate_normals(raw_pcd, search_param = KDTreeSearchParamHybrid(\n",
    "        radius = 1, max_nn = 30)) # empirically, radius 1 was good for outdoor, noisy, and sparse point cloud.\n",
    "draw_geometries([raw_pcd])"
   ]
  },
  {
   "cell_type": "code",
   "execution_count": 164,
   "metadata": {},
   "outputs": [
    {
     "name": "stdout",
     "output_type": "stream",
     "text": [
      "131708\n"
     ]
    }
   ],
   "source": [
    "# numpy points for processing\n",
    "raw_points = np.asarray(raw_pcd.points)\n",
    "\n",
    "num_raw_points = len(raw_points)\n",
    "print(num_raw_points)"
   ]
  },
  {
   "cell_type": "code",
   "execution_count": 165,
   "metadata": {},
   "outputs": [],
   "source": [
    "\"\"\"\n",
    "removing road\n",
    "\"\"\"\n",
    "# removing road points \n",
    "normals = np.asarray(raw_pcd.normals)\n",
    "\n",
    "road_removed_points = []\n",
    "for i in range(num_raw_points):\n",
    "    ith_point_xyz = raw_points[i, :]\n",
    "    ith_point_normal = normals[i, :]\n",
    "\n",
    "    z_normal = ith_point_normal[2]\n",
    "    e = 0.05\n",
    "    if( np.abs( np.abs(z_normal) - 1) < e):\n",
    "        pass\n",
    "    else:\n",
    "        road_removed_points.append(ith_point_xyz)\n",
    "        \n",
    "road_removed_points = np.array(road_removed_points)"
   ]
  },
  {
   "cell_type": "code",
   "execution_count": 166,
   "metadata": {},
   "outputs": [
    {
     "name": "stdout",
     "output_type": "stream",
     "text": [
      "PointCloud with 131708 points.\n",
      "PointCloud with 52308 points.\n"
     ]
    }
   ],
   "source": [
    "# save road-removed point cloud \n",
    "road_removed_raw_pcd = PointCloud()\n",
    "road_removed_raw_pcd.points = Vector3dVector(road_removed_points)\n",
    "\n",
    "# save \n",
    "road_removed_raw_pcd_name = pcd_base_name + '_road_removed'\n",
    "road_removed_raw_pcd_save_path = pcd_save_dir + road_removed_raw_pcd_name + '.ply' \n",
    "write_point_cloud(road_removed_raw_pcd_save_path, road_removed_raw_pcd)\n",
    "\n",
    "\n",
    "# Load saved point cloud and visualize it\n",
    "road_removed_raw_pcd_load = read_point_cloud(road_removed_raw_pcd_save_path)\n",
    "draw_geometries([road_removed_raw_pcd_load])\n",
    "\n",
    "print(raw_pcd)\n",
    "print(road_removed_raw_pcd_load)"
   ]
  },
  {
   "cell_type": "code",
   "execution_count": 167,
   "metadata": {},
   "outputs": [
    {
     "name": "stdout",
     "output_type": "stream",
     "text": [
      "9457\n"
     ]
    }
   ],
   "source": [
    "\"\"\"\n",
    "Downsampling of the road-removed point cloud\n",
    "\"\"\"\n",
    "road_removed_down_pcd = voxel_down_sample(road_removed_raw_pcd, voxel_size = 0.3)\n",
    "draw_geometries([road_removed_down_pcd])\n",
    "\n",
    "# save \n",
    "road_removed_down_pcd_name = pcd_base_name + '_road_removed_down'\n",
    "road_removed_down_pcd_save_path = pcd_save_dir + road_removed_down_pcd_name + '.ply' \n",
    "write_point_cloud(road_removed_down_pcd_save_path, road_removed_down_pcd)\n",
    "\n",
    "# number of downsampled points (without road)\n",
    "# print(road_removed_down_pcd)\n",
    "road_removed_down_points = np.asarray(road_removed_down_pcd.points)\n",
    "num_road_removed_down_points = len(road_removed_down_points)\n",
    "print(num_road_removed_down_points)     "
   ]
  },
  {
   "cell_type": "code",
   "execution_count": 168,
   "metadata": {},
   "outputs": [
    {
     "name": "stdout",
     "output_type": "stream",
     "text": [
      "9457\n"
     ]
    }
   ],
   "source": [
    "\"\"\"\n",
    "Filtering the point cloud into the fixed number of points \n",
    "\"\"\"\n",
    "# target the number of points\n",
    "num_constant_points = 5000\n",
    "if(num_constant_points > num_road_removed_down_points):\n",
    "    print('There are not enough points!')\n",
    "    sys.exit(1)\n",
    "\n",
    "# numpy points for processing\n",
    "road_removed_down_points = np.asarray(road_removed_down_pcd.points)\n",
    "\n",
    "num_road_removed_down_points = len(road_removed_down_points)\n",
    "print(num_road_removed_down_points)\n",
    "\n",
    "\n",
    "# randomly select the number of points and resave \n",
    "road_removed_const_num_points = []\n",
    "\n",
    "already_selected_point_index = [] \n",
    "count = 0\n",
    "\n",
    "while(1):\n",
    "    rand_index = np.random.randint(num_road_removed_down_points)\n",
    "    \n",
    "    if(rand_index in already_selected_point_index):\n",
    "        pass\n",
    "    else:\n",
    "        the_point = road_removed_down_points[rand_index, :]\n",
    "        road_removed_const_num_points.append(the_point)\n",
    "\n",
    "        already_selected_point_index.append(rand_index)\n",
    "        count = count + 1 \n",
    "\n",
    "    if(count==num_constant_points):\n",
    "        break\n",
    "\n",
    "\n",
    "# numpy format \n",
    "road_removed_const_num_points = np.array(road_removed_const_num_points)"
   ]
  },
  {
   "cell_type": "code",
   "execution_count": 169,
   "metadata": {},
   "outputs": [
    {
     "name": "stdout",
     "output_type": "stream",
     "text": [
      "PointCloud with 7000 points.\n"
     ]
    }
   ],
   "source": [
    "# ply format\n",
    "road_removed_const_num_pcd = PointCloud()\n",
    "road_removed_const_num_pcd.points = Vector3dVector(road_removed_const_num_points)\n",
    "\n",
    "road_removed_const_num_pcd_name = pcd_base_name + '_road_removed_const_num' + str(num_constant_points)\n",
    "road_removed_const_num_pcd_save_path = pcd_save_dir + road_removed_const_num_pcd_name + '.ply' \n",
    "\n",
    "# save \n",
    "write_point_cloud(road_removed_const_num_pcd_save_path, road_removed_const_num_pcd)\n",
    "\n",
    "# viz \n",
    "draw_geometries([road_removed_const_num_pcd])\n",
    "print(road_removed_const_num_pcd)"
   ]
  },
  {
   "cell_type": "code",
   "execution_count": null,
   "metadata": {},
   "outputs": [],
   "source": []
  },
  {
   "cell_type": "code",
   "execution_count": null,
   "metadata": {},
   "outputs": [],
   "source": []
  },
  {
   "cell_type": "code",
   "execution_count": null,
   "metadata": {},
   "outputs": [],
   "source": []
  },
  {
   "cell_type": "code",
   "execution_count": null,
   "metadata": {},
   "outputs": [],
   "source": []
  }
 ],
 "metadata": {
  "kernelspec": {
   "display_name": "Python 3",
   "language": "python",
   "name": "python3"
  },
  "language_info": {
   "codemirror_mode": {
    "name": "ipython",
    "version": 3
   },
   "file_extension": ".py",
   "mimetype": "text/x-python",
   "name": "python",
   "nbconvert_exporter": "python",
   "pygments_lexer": "ipython3",
   "version": "3.5.2"
  },
  "widgets": {
   "application/vnd.jupyter.widget-state+json": {
    "state": {},
    "version_major": 2,
    "version_minor": 0
   }
  }
 },
 "nbformat": 4,
 "nbformat_minor": 2
}
